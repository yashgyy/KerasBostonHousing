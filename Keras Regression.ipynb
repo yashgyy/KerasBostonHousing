{
 "cells": [
  {
   "cell_type": "code",
   "execution_count": 1,
   "metadata": {},
   "outputs": [
    {
     "name": "stderr",
     "output_type": "stream",
     "text": [
      "Using TensorFlow backend.\n"
     ]
    }
   ],
   "source": [
    "import keras"
   ]
  },
  {
   "cell_type": "code",
   "execution_count": 2,
   "metadata": {},
   "outputs": [],
   "source": [
    "from sklearn.preprocessing import StandardScaler"
   ]
  },
  {
   "cell_type": "code",
   "execution_count": 3,
   "metadata": {},
   "outputs": [],
   "source": [
    "from keras.datasets import boston_housing\n",
    "\n",
    "(x_train, y_train), (x_test, y_test) = boston_housing.load_data()"
   ]
  },
  {
   "cell_type": "code",
   "execution_count": 4,
   "metadata": {},
   "outputs": [
    {
     "data": {
      "text/plain": [
       "StandardScaler(copy=True, with_mean=True, with_std=True)"
      ]
     },
     "execution_count": 4,
     "metadata": {},
     "output_type": "execute_result"
    }
   ],
   "source": [
    "Standard1=StandardScaler()\n",
    "Standard1.fit(x_train)"
   ]
  },
  {
   "cell_type": "code",
   "execution_count": 5,
   "metadata": {},
   "outputs": [],
   "source": [
    "x_test=Standard1.transform(x_test)\n",
    "x_train=Standard1.transform(x_train)"
   ]
  },
  {
   "cell_type": "code",
   "execution_count": 6,
   "metadata": {},
   "outputs": [
    {
     "data": {
      "text/plain": [
       "(404, 13)"
      ]
     },
     "execution_count": 6,
     "metadata": {},
     "output_type": "execute_result"
    }
   ],
   "source": [
    "x_train.shape"
   ]
  },
  {
   "cell_type": "code",
   "execution_count": 7,
   "metadata": {},
   "outputs": [
    {
     "data": {
      "text/plain": [
       "(102, 13)"
      ]
     },
     "execution_count": 7,
     "metadata": {},
     "output_type": "execute_result"
    }
   ],
   "source": [
    "x_test.shape"
   ]
  },
  {
   "cell_type": "code",
   "execution_count": 60,
   "metadata": {},
   "outputs": [],
   "source": [
    "from keras.models import Sequential\n",
    "from keras.layers import Conv2D\n",
    "from keras.layers import Dropout\n",
    "from keras.layers import MaxPooling2D\n",
    "from keras.layers import Dense\n",
    "from keras.layers import Flatten\n",
    "from keras.regularizers import l2,l1_l2\n",
    "from keras.callbacks import EarlyStopping"
   ]
  },
  {
   "cell_type": "code",
   "execution_count": 72,
   "metadata": {},
   "outputs": [],
   "source": [
    "model=Sequential()\n",
    "model.add(Dense(units=128,activation=\"relu\",kernel_regularizer=keras.regularizers.l1_l2(l1=0.01, l2=0.01),input_shape=(13,)))\n",
    "model.add(Dropout(0.1))\n",
    "model.add(Dense(units=64,activation=\"relu\"))\n",
    "model.add(Dropout(0.1))\n",
    "model.add(Dense(units=16,activation=\"relu\"))\n",
    "model.add(Dense(units=1))"
   ]
  },
  {
   "cell_type": "code",
   "execution_count": 73,
   "metadata": {},
   "outputs": [
    {
     "name": "stdout",
     "output_type": "stream",
     "text": [
      "_________________________________________________________________\n",
      "Layer (type)                 Output Shape              Param #   \n",
      "=================================================================\n",
      "dense_53 (Dense)             (None, 128)               1792      \n",
      "_________________________________________________________________\n",
      "dropout_27 (Dropout)         (None, 128)               0         \n",
      "_________________________________________________________________\n",
      "dense_54 (Dense)             (None, 64)                8256      \n",
      "_________________________________________________________________\n",
      "dropout_28 (Dropout)         (None, 64)                0         \n",
      "_________________________________________________________________\n",
      "dense_55 (Dense)             (None, 16)                1040      \n",
      "_________________________________________________________________\n",
      "dense_56 (Dense)             (None, 1)                 17        \n",
      "=================================================================\n",
      "Total params: 11,105\n",
      "Trainable params: 11,105\n",
      "Non-trainable params: 0\n",
      "_________________________________________________________________\n"
     ]
    }
   ],
   "source": [
    "model.summary()"
   ]
  },
  {
   "cell_type": "code",
   "execution_count": 74,
   "metadata": {},
   "outputs": [],
   "source": [
    "model.compile(loss=\"mse\",optimizer=\"adam\",metrics=['mse'])"
   ]
  },
  {
   "cell_type": "code",
   "execution_count": 75,
   "metadata": {},
   "outputs": [
    {
     "name": "stdout",
     "output_type": "stream",
     "text": [
      "Train on 323 samples, validate on 81 samples\n",
      "Epoch 1/100\n",
      "323/323 [==============================] - 1s 3ms/step - loss: 565.3081 - mean_squared_error: 563.3205 - val_loss: 610.6370 - val_mean_squared_error: 608.6474\n",
      "Epoch 2/100\n",
      "323/323 [==============================] - 0s 181us/step - loss: 515.7032 - mean_squared_error: 513.7065 - val_loss: 549.1384 - val_mean_squared_error: 547.1259\n",
      "Epoch 3/100\n",
      "323/323 [==============================] - 0s 137us/step - loss: 445.7317 - mean_squared_error: 443.7024 - val_loss: 453.6922 - val_mean_squared_error: 451.6339\n",
      "Epoch 4/100\n",
      "323/323 [==============================] - 0s 206us/step - loss: 339.4771 - mean_squared_error: 337.3927 - val_loss: 315.3987 - val_mean_squared_error: 313.2727\n",
      "Epoch 5/100\n",
      "323/323 [==============================] - 0s 172us/step - loss: 204.6262 - mean_squared_error: 202.4668 - val_loss: 161.3942 - val_mean_squared_error: 159.1876\n",
      "Epoch 6/100\n",
      "323/323 [==============================] - 0s 140us/step - loss: 93.6891 - mean_squared_error: 91.4547 - val_loss: 80.5825 - val_mean_squared_error: 78.3152\n",
      "Epoch 7/100\n",
      "323/323 [==============================] - 0s 151us/step - loss: 68.0238 - mean_squared_error: 65.7470 - val_loss: 55.8826 - val_mean_squared_error: 53.6008\n",
      "Epoch 8/100\n",
      "323/323 [==============================] - 0s 198us/step - loss: 46.6551 - mean_squared_error: 44.3758 - val_loss: 38.7177 - val_mean_squared_error: 36.4410\n",
      "Epoch 9/100\n",
      "323/323 [==============================] - 0s 158us/step - loss: 36.9691 - mean_squared_error: 34.6910 - val_loss: 29.6829 - val_mean_squared_error: 27.4046\n",
      "Epoch 10/100\n",
      "323/323 [==============================] - 0s 167us/step - loss: 29.7590 - mean_squared_error: 27.4815 - val_loss: 26.1143 - val_mean_squared_error: 23.8373\n",
      "Epoch 11/100\n",
      "323/323 [==============================] - 0s 157us/step - loss: 26.8549 - mean_squared_error: 24.5772 - val_loss: 23.4301 - val_mean_squared_error: 21.1525\n",
      "Epoch 12/100\n",
      "323/323 [==============================] - 0s 157us/step - loss: 24.4585 - mean_squared_error: 22.1845 - val_loss: 22.3673 - val_mean_squared_error: 20.0964\n",
      "Epoch 13/100\n",
      "323/323 [==============================] - 0s 164us/step - loss: 22.8694 - mean_squared_error: 20.5975 - val_loss: 20.7340 - val_mean_squared_error: 18.4616\n",
      "Epoch 14/100\n",
      "323/323 [==============================] - 0s 151us/step - loss: 22.7274 - mean_squared_error: 20.4560 - val_loss: 20.2081 - val_mean_squared_error: 17.9380\n",
      "Epoch 15/100\n",
      "323/323 [==============================] - 0s 157us/step - loss: 23.7929 - mean_squared_error: 21.5247 - val_loss: 19.4627 - val_mean_squared_error: 17.1966\n",
      "Epoch 16/100\n",
      "323/323 [==============================] - 0s 155us/step - loss: 20.1382 - mean_squared_error: 17.8737 - val_loss: 18.9417 - val_mean_squared_error: 16.6777\n",
      "Epoch 17/100\n",
      "323/323 [==============================] - 0s 160us/step - loss: 19.0753 - mean_squared_error: 16.8118 - val_loss: 19.4074 - val_mean_squared_error: 17.1453\n",
      "Epoch 18/100\n",
      "323/323 [==============================] - 0s 168us/step - loss: 19.5214 - mean_squared_error: 17.2606 - val_loss: 19.0706 - val_mean_squared_error: 16.8140\n",
      "Epoch 19/100\n",
      "323/323 [==============================] - 0s 154us/step - loss: 19.6697 - mean_squared_error: 17.4160 - val_loss: 18.3759 - val_mean_squared_error: 16.1225\n",
      "Epoch 20/100\n",
      "323/323 [==============================] - 0s 154us/step - loss: 18.5415 - mean_squared_error: 16.2860 - val_loss: 17.9412 - val_mean_squared_error: 15.6845\n",
      "Epoch 21/100\n",
      "323/323 [==============================] - 0s 157us/step - loss: 19.4419 - mean_squared_error: 17.1869 - val_loss: 17.7568 - val_mean_squared_error: 15.5042\n",
      "Epoch 22/100\n",
      "323/323 [==============================] - 0s 167us/step - loss: 17.8923 - mean_squared_error: 15.6413 - val_loss: 17.5076 - val_mean_squared_error: 15.2581\n",
      "Epoch 23/100\n",
      "323/323 [==============================] - 0s 169us/step - loss: 19.4362 - mean_squared_error: 17.1870 - val_loss: 17.2426 - val_mean_squared_error: 14.9967\n",
      "Epoch 24/100\n",
      "323/323 [==============================] - 0s 146us/step - loss: 16.3524 - mean_squared_error: 14.1105 - val_loss: 16.9363 - val_mean_squared_error: 14.6976\n",
      "Epoch 25/100\n",
      "323/323 [==============================] - 0s 151us/step - loss: 16.5372 - mean_squared_error: 14.2978 - val_loss: 17.2229 - val_mean_squared_error: 14.9838\n",
      "Epoch 26/100\n",
      "323/323 [==============================] - 0s 151us/step - loss: 15.8742 - mean_squared_error: 13.6379 - val_loss: 16.4718 - val_mean_squared_error: 14.2392\n",
      "Epoch 27/100\n",
      "323/323 [==============================] - 0s 182us/step - loss: 15.4129 - mean_squared_error: 13.1827 - val_loss: 16.3779 - val_mean_squared_error: 14.1491\n",
      "Epoch 28/100\n",
      "323/323 [==============================] - 0s 167us/step - loss: 16.4481 - mean_squared_error: 14.2213 - val_loss: 16.6711 - val_mean_squared_error: 14.4453\n",
      "Epoch 29/100\n",
      "323/323 [==============================] - 0s 155us/step - loss: 16.7133 - mean_squared_error: 14.4873 - val_loss: 17.1989 - val_mean_squared_error: 14.9742\n",
      "Epoch 30/100\n",
      "323/323 [==============================] - 0s 161us/step - loss: 14.2929 - mean_squared_error: 12.0687 - val_loss: 16.8598 - val_mean_squared_error: 14.6368\n"
     ]
    }
   ],
   "source": [
    "Mod=model.fit(x_train,y_train,batch_size=32,callbacks=[EarlyStopping(patience=3)],epochs=100,validation_split=0.2)"
   ]
  },
  {
   "cell_type": "code",
   "execution_count": 80,
   "metadata": {},
   "outputs": [
    {
     "data": {
      "image/png": "[encoded data removed]",
      "text/plain": [
       "<Figure size 432x288 with 1 Axes>"
      ]
     },
     "metadata": {
      "needs_background": "light"
     },
     "output_type": "display_data"
    }
   ],
   "source": [
    "import matplotlib.pyplot as plt\n",
    "plt.plot(Mod.history['mean_squared_error'])\n",
    "plt.plot(Mod.history['val_mean_squared_error'])\n",
    "plt.title('Model accuracy')\n",
    "plt.ylabel('accuracy')\n",
    "plt.xlabel('epoch')\n",
    "plt.legend(['train', 'test'], loc='upper left')\n",
    "plt.show()"
   ]
  },
  {
   "cell_type": "code",
   "execution_count": 79,
   "metadata": {},
   "outputs": [
    {
     "data": {
      "text/plain": [
       "{'val_loss': [610.6369557321807,\n",
       "  549.1384073893229,\n",
       "  453.6921661753713,\n",
       "  315.3987390965591,\n",
       "  161.39419225998867,\n",
       "  80.58247789924528,\n",
       "  55.882615736973136,\n",
       "  38.71765527607482,\n",
       "  29.682940424224476,\n",
       "  26.11434469105285,\n",
       "  23.43005645422288,\n",
       "  22.36731771775234,\n",
       "  20.7340314299972,\n",
       "  20.20808275246326,\n",
       "  19.462699230806326,\n",
       "  18.9416761516053,\n",
       "  19.40735310684016,\n",
       "  19.070601027688863,\n",
       "  18.375889483793284,\n",
       "  17.941182065893102,\n",
       "  17.75680246470887,\n",
       "  17.5076030448631,\n",
       "  17.24258824336676,\n",
       "  16.936295250315727,\n",
       "  17.222935170303156,\n",
       "  16.471772605990186,\n",
       "  16.37789468412046,\n",
       "  16.67105608810613,\n",
       "  17.19894137205901,\n",
       "  16.859845597066997],\n",
       " 'val_mean_squared_error': [608.6473927438994,\n",
       "  547.1259136435426,\n",
       "  451.6339386363088,\n",
       "  313.272732016481,\n",
       "  159.1875776126061,\n",
       "  78.31516600243839,\n",
       "  53.60076833654333,\n",
       "  36.440953549043634,\n",
       "  27.404582541665913,\n",
       "  23.837298287285698,\n",
       "  21.152478853861492,\n",
       "  20.096386473855855,\n",
       "  18.46163476543662,\n",
       "  17.938026981589235,\n",
       "  17.196605023042654,\n",
       "  16.677701585086776,\n",
       "  17.145313922269846,\n",
       "  16.81402810414632,\n",
       "  16.12251538406184,\n",
       "  15.684472013402868,\n",
       "  15.504216099962775,\n",
       "  15.258108692404665,\n",
       "  14.996703724802277,\n",
       "  14.69757091851882,\n",
       "  14.983789514612269,\n",
       "  14.239203865145459,\n",
       "  14.149081512733742,\n",
       "  14.44529848922918,\n",
       "  14.974151375852985,\n",
       "  14.636819321432231],\n",
       " 'loss': [565.3081207747799,\n",
       "  515.7032145686194,\n",
       "  445.73165577041107,\n",
       "  339.4771459242877,\n",
       "  204.62622604133912,\n",
       "  93.68913012761449,\n",
       "  68.02375990687509,\n",
       "  46.655120132139224,\n",
       "  36.96907353474998,\n",
       "  29.7589756696955,\n",
       "  26.85485941411541,\n",
       "  24.458508777913664,\n",
       "  22.869413405380012,\n",
       "  22.727448481155253,\n",
       "  23.792883409435166,\n",
       "  20.138231242035197,\n",
       "  19.07525568923714,\n",
       "  19.521447515340043,\n",
       "  19.66968668060775,\n",
       "  18.541526192112972,\n",
       "  19.44186054147065,\n",
       "  17.8922738084114,\n",
       "  19.43624004269532,\n",
       "  16.352404290308524,\n",
       "  16.53719639851951,\n",
       "  15.874168703061509,\n",
       "  15.41286699985941,\n",
       "  16.448055426771795,\n",
       "  16.71328436553294,\n",
       "  14.292932779058214],\n",
       " 'mean_squared_error': [563.320520454147,\n",
       "  513.706490059017,\n",
       "  443.7023752407393,\n",
       "  337.39265404101866,\n",
       "  202.46676208212648,\n",
       "  91.45467933560303,\n",
       "  65.7469515195203,\n",
       "  44.37582147379778,\n",
       "  34.69097980700041,\n",
       "  27.48149751362048,\n",
       "  24.577185084576207,\n",
       "  22.1845393992799,\n",
       "  20.59749639144992,\n",
       "  20.455966088055828,\n",
       "  21.524679201675273,\n",
       "  17.87374669479512,\n",
       "  16.811819005676835,\n",
       "  17.260632045497836,\n",
       "  17.416040179899234,\n",
       "  16.286012321802854,\n",
       "  17.186855381118257,\n",
       "  15.64125628810918,\n",
       "  17.186967392824013,\n",
       "  14.11048674214366,\n",
       "  14.297773381135782,\n",
       "  13.637923113701882,\n",
       "  13.18267149674265,\n",
       "  14.221262598923486,\n",
       "  14.487252784587282,\n",
       "  12.068674762551629]}"
      ]
     },
     "execution_count": 79,
     "metadata": {},
     "output_type": "execute_result"
    }
   ],
   "source": [
    "Mod.history"
   ]
  },
  {
   "cell_type": "code",
   "execution_count": null,
   "metadata": {},
   "outputs": [],
   "source": []
  }
 ],
 "metadata": {
  "kernelspec": {
   "display_name": "Python 3",
   "language": "python",
   "name": "python3"
  },
  "language_info": {
   "codemirror_mode": {
    "name": "ipython",
    "version": 3
   },
   "file_extension": ".py",
   "mimetype": "text/x-python",
   "name": "python",
   "nbconvert_exporter": "python",
   "pygments_lexer": "ipython3",
   "version": "3.6.7"
  }
 },
 "nbformat": 4,
 "nbformat_minor": 2
}
